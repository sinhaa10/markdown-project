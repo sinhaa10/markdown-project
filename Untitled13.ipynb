{
 "cells": [
  {
   "cell_type": "markdown",
   "id": "566439d0-10cc-4923-b482-2b676a52d75c",
   "metadata": {},
   "source": [
    "# Data Science Tools and Ecosystem\n"
   ]
  },
  {
   "cell_type": "markdown",
   "id": "56aca9d8-cf06-4a0b-8ea5-5c110a62c798",
   "metadata": {},
   "source": [
    "## Introduction\n",
    "In this notebook, we will explore various tools, libraries, and languages that are commonly used in the field of Data Science. We will also perform basic arithmetic operations using code cells.\n"
   ]
  },
  {
   "cell_type": "markdown",
   "id": "adf6d91b-2228-46e5-a279-b12f8a6c7136",
   "metadata": {},
   "source": [
    "## Data Science Languages\n",
    "Some of the popular languages used in Data Science are:\n",
    "\n",
    "- Python\n",
    "- R\n",
    "- SQL\n",
    "- Julia\n",
    "- Scala\n"
   ]
  },
  {
   "cell_type": "code",
   "execution_count": null,
   "id": "bdcd49c6-a61e-4941-942f-26d271d73428",
   "metadata": {},
   "outputs": [],
   "source": []
  }
 ],
 "metadata": {
  "kernelspec": {
   "display_name": "Python 3 (ipykernel)",
   "language": "python",
   "name": "python3"
  },
  "language_info": {
   "codemirror_mode": {
    "name": "ipython",
    "version": 3
   },
   "file_extension": ".py",
   "mimetype": "text/x-python",
   "name": "python",
   "nbconvert_exporter": "python",
   "pygments_lexer": "ipython3",
   "version": "3.12.7"
  }
 },
 "nbformat": 4,
 "nbformat_minor": 5
}
